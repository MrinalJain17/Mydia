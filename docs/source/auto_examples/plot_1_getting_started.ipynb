{
  "cells": [
    {
      "cell_type": "code",
      "execution_count": null,
      "metadata": {
        "collapsed": false
      },
      "outputs": [],
      "source": [
        "%matplotlib inline"
      ]
    },
    {
      "cell_type": "markdown",
      "metadata": {},
      "source": [
        "\nGet started with some basics\n============================\n\nReading videos into NumPy arrays was never more simple. In addition,\nthis library also provides an entire range of additional functionalities\nfor reading the videos.\n\n"
      ]
    },
    {
      "cell_type": "markdown",
      "metadata": {},
      "source": [
        "How to simply read a video, given its path?\n-------------------------------------------\n\n"
      ]
    },
    {
      "cell_type": "code",
      "execution_count": null,
      "metadata": {
        "collapsed": false
      },
      "outputs": [],
      "source": [
        "# Import\nfrom mydia import Videos\n\n# Initialize video path\nvideo_path = r\"./sample_video/bigbuckbunny.mp4\"\n\n# Create a reader object\nreader = Videos()\n\n# Call the 'read()' function to get the video tensor\nvideo = reader.read(video_path)\n\n# a tensor of shape (1, 132, 720, 1080, 3)\nprint(\"The shape of the tensor:\", video.shape)"
      ]
    },
    {
      "cell_type": "markdown",
      "metadata": {},
      "source": [
        "The tensor represents **1 video** having **132 frames**, with each frame\nhaving a width and height of 1080 and 720 pixels respectively. \u201c**3**\u201d\ndenotes the Red, Green and Blue (RGB) channels of the video.\n\n\nOr, read multiple videos\n------------------------\n\n.. code:: python\n\n from mydia import Videos\n video_paths = [\"\", \"\", ...] # list of path of videos\n reader = Videos()\n video = reader.read(video_paths)\n\n*For detailed information of the output tensor, view the code documentation.*\n\n\nSaving the loaded video tensor\n------------------------------\n\n.. important:: Once the videos have been processed, they could be saved\n as :obj:`numpy.ndarray` (in .npz or .npy format). For further details, view\n the documentation of:\n\n - :obj:`numpy.save`: for saving in .npy format\n\n - :obj:`numpy.savez`: for saving in .npz format\n\n - :obj:`numpy.load`: for loading back the saved numpy tensors\n\n Since the whole reading process is time consuming, this could turn out to be\n a useful way to store and reload the video tensors.\n\n"
      ]
    }
  ],
  "metadata": {
    "kernelspec": {
      "display_name": "Python 3",
      "language": "python",
      "name": "python3"
    },
    "language_info": {
      "codemirror_mode": {
        "name": "ipython",
        "version": 3
      },
      "file_extension": ".py",
      "mimetype": "text/x-python",
      "name": "python",
      "nbconvert_exporter": "python",
      "pygments_lexer": "ipython3",
      "version": "3.6.6"
    }
  },
  "nbformat": 4,
  "nbformat_minor": 0
}