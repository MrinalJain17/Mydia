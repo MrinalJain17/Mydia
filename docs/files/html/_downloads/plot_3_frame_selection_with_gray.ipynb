{
  "cells": [
    {
      "cell_type": "code",
      "execution_count": null,
      "metadata": {
        "collapsed": false
      },
      "outputs": [],
      "source": [
        "%matplotlib inline"
      ]
    },
    {
      "cell_type": "markdown",
      "metadata": {},
      "source": [
        "\nFrame selection, resizing, and conversion to gray scale\n==========================================================\n\n-  We want to resize each frame to be 720 pixels in width and 480 pixels\n   in height.\n-  Not all the frames are required. Let\u2019s just capture exactly 12 frames\n   (at equal intervals) from the video.\n-  All the frames should be in gray scale.\n-  And finally, we\u2019ll also visualize the captured frames.\n\n"
      ]
    },
    {
      "cell_type": "code",
      "execution_count": null,
      "metadata": {
        "collapsed": false
      },
      "outputs": [],
      "source": [
        "# Imports\nimport matplotlib.pyplot as plt\nfrom mydia import Videos\n\n# Initialize video path\nvideo_path = r\"./sample_video/bigbuckbunny.mp4\"\n\n# Configuring the parameters\n# Other parameters are the same as described above.\n# The only additional parameter to modify is 'to_gray'\nreader = Videos(target_size=(720, 480), to_gray=True, num_frames=12)\n\n# Call the 'read()' function to get the required video tensor\nvideo = reader.read(video_path)  # a tensor of shape (1, 12, 480, 720, 1)\n\n# Plot the video frames in a grid\nreader.plot(video[0])\nplt.show()"
      ]
    },
    {
      "cell_type": "markdown",
      "metadata": {},
      "source": [
        "<div class=\"alert alert-info\"><h4>Note</h4><p>The number of channels for a video in gray scale is 1</p></div>\n (indicated by the last value in the tuple).\n\n"
      ]
    }
  ],
  "metadata": {
    "kernelspec": {
      "display_name": "Python 3",
      "language": "python",
      "name": "python3"
    },
    "language_info": {
      "codemirror_mode": {
        "name": "ipython",
        "version": 3
      },
      "file_extension": ".py",
      "mimetype": "text/x-python",
      "name": "python",
      "nbconvert_exporter": "python",
      "pygments_lexer": "ipython3",
      "version": "3.6.6"
    }
  },
  "nbformat": 4,
  "nbformat_minor": 0
}