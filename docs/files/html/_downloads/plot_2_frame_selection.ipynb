{
  "cells": [
    {
      "cell_type": "code",
      "execution_count": null,
      "metadata": {
        "collapsed": false
      },
      "outputs": [],
      "source": [
        "%matplotlib inline"
      ]
    },
    {
      "cell_type": "markdown",
      "metadata": {},
      "source": [
        "\nFrame selection and resizing\n============================\n\n-  We want to resize each frame to be 720 pixels in width and 480 pixels\n   in height.\n-  Not all the frames are required. Let\u2019s just capture exactly 12 frames\n   (at equal intervals) from the video.\n-  And finally, we\u2019ll also visualize the captured frames.\n\n"
      ]
    },
    {
      "cell_type": "code",
      "execution_count": null,
      "metadata": {
        "collapsed": false
      },
      "outputs": [],
      "source": [
        "# Imports\nimport matplotlib.pyplot as plt\nfrom mydia import Videos\n\n# Initialize video path\nvideo_path = r\"./sample_video/bigbuckbunny.mp4\"\n\n# Configuring the parameters\n# Setting 'target_size' = (720, 480) : this denotes the new width and height of the frames\n# Setting 'num_frames' = 12 : to capture exactly 12 frames\n# For more detailed information, view the code documentation.\nreader = Videos(target_size=(720, 480), num_frames=12)\n\n# Call the 'read()' function to get the required video tensor\nvideo = reader.read(video_path)  # a tensor of shape (1, 12, 480, 720, 3)\n\n# Plot the video frames in a grid\nreader.plot(video[0])\nplt.show()"
      ]
    },
    {
      "cell_type": "markdown",
      "metadata": {},
      "source": [
        "<div class=\"alert alert-info\"><h4>Note</h4><p>The number of channels for a RGB video is 3</p></div>\n (indicated by the last value in the tuple).\n\n"
      ]
    }
  ],
  "metadata": {
    "kernelspec": {
      "display_name": "Python 3",
      "language": "python",
      "name": "python3"
    },
    "language_info": {
      "codemirror_mode": {
        "name": "ipython",
        "version": 3
      },
      "file_extension": ".py",
      "mimetype": "text/x-python",
      "name": "python",
      "nbconvert_exporter": "python",
      "pygments_lexer": "ipython3",
      "version": "3.6.6"
    }
  },
  "nbformat": 4,
  "nbformat_minor": 0
}