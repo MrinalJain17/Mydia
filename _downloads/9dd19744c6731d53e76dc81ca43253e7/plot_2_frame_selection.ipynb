{
  "cells": [
    {
      "cell_type": "code",
      "execution_count": null,
      "metadata": {
        "collapsed": false
      },
      "outputs": [],
      "source": [
        "%matplotlib inline"
      ]
    },
    {
      "cell_type": "markdown",
      "metadata": {},
      "source": [
        "\nFrame selection, resizing, and grayscale conversion\n===================================================\n\n* We want to resize each frame to be 720 pixels in width and 480 pixels\n  in height.\n\n  * Set ``target_size`` to (720, 480)\n\n* All the frames are not required. Let\u2019s just capture exactly 12  random\n  frames from the video.\n\n  * Set ``mode`` to ``\"random\"``\n\n* And finally, visualize the captured frames using :func:`mydia.make_grid`\n\n"
      ]
    },
    {
      "cell_type": "code",
      "execution_count": null,
      "metadata": {
        "collapsed": false
      },
      "outputs": [],
      "source": [
        "# Imports\nimport matplotlib.pyplot as plt\nfrom mydia import Videos, make_grid\n\n# Initialize video path\nvideo_path = r\"./sample_video/bigbuckbunny.mp4\"\n\n# Configuring the parameters\n# For other paramaters available, view the code documentation.\nreader = Videos(target_size=(720, 480), num_frames=12, mode=\"random\")\n\n# Call the 'read()' function to get the required video tensor\n# which will be of shape (1, 12, 480, 720, 3)\nvideo = reader.read(video_path)\nprint(\"The shape of the tensor:\", video.shape)\n\n# Plot the video frames in a grid\ngrid = make_grid(video[0])\nplt.imshow(grid)"
      ]
    },
    {
      "cell_type": "markdown",
      "metadata": {},
      "source": [
        "<div class=\"alert alert-info\"><h4>Note</h4><p>The number of channels for a RGB video is 3</p></div>\n (indicated by the last value in the tuple).\n\n\n* Now let's read the video with the same configuration, but in\n  **grayscale**\n\n  * For this, set ``to_gray`` to `True`\n\n* Also, the function `make_grid()` takes certain arguments to construct\n  the grid of frames of the video.\n  For more info, view :func:`mydia.make_grid`.\n\n"
      ]
    },
    {
      "cell_type": "code",
      "execution_count": null,
      "metadata": {
        "collapsed": false
      },
      "outputs": [],
      "source": [
        "# Imports\nimport matplotlib.pyplot as plt\nfrom mydia import Videos, make_grid\n\n# Initialize video path\nvideo_path = r\"./sample_video/bigbuckbunny.mp4\"\n\n# Configuring the parameters\nreader = Videos(target_size=(720, 480), to_gray=True, num_frames=12, mode=\"random\")\n\n# Call the 'read()' function to get the required video tensor\n# which will be of shape (1, 12, 480, 720, 1)\nvideo = reader.read(video_path)\nprint(\"The shape of the tensor:\", video.shape)\n\n# Plot the video frames in a grid\ngrid = make_grid(video[0], num_col=2)\nplt.imshow(grid, cmap=\"gray\")"
      ]
    },
    {
      "cell_type": "markdown",
      "metadata": {},
      "source": [
        "<div class=\"alert alert-info\"><h4>Note</h4><p>The number of channels for a video in gray scale is 1</p></div>\n (indicated by the last value in the tuple).\n\n"
      ]
    }
  ],
  "metadata": {
    "kernelspec": {
      "display_name": "Python 3",
      "language": "python",
      "name": "python3"
    },
    "language_info": {
      "codemirror_mode": {
        "name": "ipython",
        "version": 3
      },
      "file_extension": ".py",
      "mimetype": "text/x-python",
      "name": "python",
      "nbconvert_exporter": "python",
      "pygments_lexer": "ipython3",
      "version": "3.6.7"
    }
  },
  "nbformat": 4,
  "nbformat_minor": 0
}