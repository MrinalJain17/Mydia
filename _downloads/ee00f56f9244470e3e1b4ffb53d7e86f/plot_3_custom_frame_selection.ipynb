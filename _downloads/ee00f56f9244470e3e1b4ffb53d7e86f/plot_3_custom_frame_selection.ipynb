{
  "cells": [
    {
      "cell_type": "code",
      "execution_count": null,
      "metadata": {
        "collapsed": false
      },
      "outputs": [],
      "source": [
        "%matplotlib inline"
      ]
    },
    {
      "cell_type": "markdown",
      "metadata": {},
      "source": [
        "\nCustom frame selection\n======================\n\nBy default, you can use one of the five available options for frame \nselection - `{\"auto\"`, `\"random\"`, `\"first\"`, `\"last\"`, and `\"middle\"}`, \nby passing it to the parameter ``mode``. (View the documentation of \n:class:`mydia.Videos` for more information on what each of these does)\n\nInternally, each of these options are mapped to a `callable` that returns \na list of integers denoting the indices of the frames to be selected. \nThe `callable` takes 4 non-keyword arguments:\n\n* ``total_frames`` (`int`): The total number of frames in the video\n* ``num_frames`` (`int`): The number of frames that you want to extract\n* ``fps`` (`int`): The frame rate of the video\n* ``random_state`` (`int`): Integer to seed the random number generator\n\nYou could create your own `callable` and pass it to the parameter \n``mode``, gaining immense flexibility in the frame selection process.\n\nThe general format of the `callable` should be:\n\n.. code-block:: python\n\n   def func(total_frames, num_frames, fps, random_state):\n       # Create a list of integers denoting the required frame indices\n       frames_indices = []\n       # Do something\n       ...\n\n       return frame_indices\n\n<div class=\"alert alert-info\"><h4>Note</h4><p>1. There are no tests that validate the indices returned by the \n      `callable` and therefore, they must be within the range 0 to \n      ``total_frames``.\n\n   2. Also, the frames are **not** repeated. That is, even if there are \n      repeated indices, the number of frames are selected only for the \n      unique values in the index array.</p></div>\n\n<div class=\"alert alert-danger\"><h4>Warning</h4><p>If you are passing a `callable` to ``mode``, then make sure that \n   the number of frames (indices) it returns is equal to the value of \n   ``num_frames``. If this condition is not met, then this would mean \n   that the number of frames selected is different for different videos, \n   and therefore they cannot be stacked into a single tensor.</p></div>\n\nExamples\n~~~~~~~~\n\n* Let's say we want the first 20 even numbered frames (starting \n  from 0, 2, 4, ...), assuming that the video has atleast 20x2 = 40 frames.\n  \n\n"
      ]
    },
    {
      "cell_type": "code",
      "execution_count": null,
      "metadata": {
        "collapsed": false
      },
      "outputs": [],
      "source": [
        "# Imports\nimport matplotlib.pyplot as plt\nfrom mydia import Videos, make_grid\n\n# Initialize video path\nvideo_path = r\"./sample_video/bigbuckbunny.mp4\"\n\n# Custom frame selector\n# `*args` is used because we do not need the arguments for generating the\n# index array\ndef even_frames(*args):\n    return [i for i in range(0, 40, 2)]\n\n# Configuring the parameters\n# Passing `even_frames` to `mode`\nreader = Videos(target_size=(720, 480), to_gray=True, num_frames=20, mode=even_frames)\n\n# Call the 'read()' function to get the required video tensor\n# which will be of shape (1, 20, 480, 720, 3)\nvideo = reader.read(video_path)\nprint(\"The shape of the video tensor:\", video.shape)\n\n# Plot the video frames in a grid\ngrid = make_grid(video[0], num_col=4)\nplt.imshow(grid, cmap=\"gray\")"
      ]
    },
    {
      "cell_type": "markdown",
      "metadata": {},
      "source": [
        "*Note that `make_grid` can also take some arguments for customizing\nthe grid. For more info, view the documentation of the function*\n:func:`mydia.make_grid`.\n\n"
      ]
    }
  ],
  "metadata": {
    "kernelspec": {
      "display_name": "Python 3",
      "language": "python",
      "name": "python3"
    },
    "language_info": {
      "codemirror_mode": {
        "name": "ipython",
        "version": 3
      },
      "file_extension": ".py",
      "mimetype": "text/x-python",
      "name": "python",
      "nbconvert_exporter": "python",
      "pygments_lexer": "ipython3",
      "version": "3.6.7"
    }
  },
  "nbformat": 4,
  "nbformat_minor": 0
}